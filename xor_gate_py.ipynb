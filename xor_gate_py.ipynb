{
  "nbformat": 4,
  "nbformat_minor": 0,
  "metadata": {
    "colab": {
      "provenance": [],
      "authorship_tag": "ABX9TyOfIfgmHeX69huhQYw+gBj4",
      "include_colab_link": true
    },
    "kernelspec": {
      "name": "python3",
      "display_name": "Python 3"
    },
    "language_info": {
      "name": "python"
    }
  },
  "cells": [
    {
      "cell_type": "markdown",
      "metadata": {
        "id": "view-in-github",
        "colab_type": "text"
      },
      "source": [
        "<a href=\"https://colab.research.google.com/github/AishwaryaM15/Neural-Networks-and-Deep-Learning-Lab/blob/main/xor_gate_py.ipynb\" target=\"_parent\"><img src=\"https://colab.research.google.com/assets/colab-badge.svg\" alt=\"Open In Colab\"/></a>"
      ]
    },
    {
      "cell_type": "code",
      "execution_count": 1,
      "metadata": {
        "id": "xhzbEYiiq_uV"
      },
      "outputs": [],
      "source": [
        "import numpy as np"
      ]
    },
    {
      "cell_type": "code",
      "source": [
        "#training data\n",
        "X=np.array([[0,0],[0,1],[1,0],[1,1]])\n",
        "\n",
        "#labels for training data\n",
        "y=np.array([[0],[1],[1],[0]])"
      ],
      "metadata": {
        "id": "8Xmt7UmvrVtO"
      },
      "execution_count": 2,
      "outputs": []
    },
    {
      "cell_type": "markdown",
      "source": [
        "3. define weight variable"
      ],
      "metadata": {
        "id": "XGQxJ9vYryy3"
      }
    },
    {
      "cell_type": "code",
      "source": [
        "w11=np.asarray([1,1])\n",
        "w12=np.asarray([1,1])\n",
        "w2=np.asarray([-1,1])\n",
        "\n",
        "B1=np.asarray([-1.5,-0.5])\n",
        "B2=np.asarray([-0.5])"
      ],
      "metadata": {
        "id": "u01TEr7-rxO-"
      },
      "execution_count": 3,
      "outputs": []
    },
    {
      "cell_type": "code",
      "source": [
        "w11\n"
      ],
      "metadata": {
        "colab": {
          "base_uri": "https://localhost:8080/"
        },
        "id": "ZvPKLUlusPAA",
        "outputId": "3d9f160f-ac16-4a67-c547-758043bb397a"
      },
      "execution_count": 6,
      "outputs": [
        {
          "output_type": "execute_result",
          "data": {
            "text/plain": [
              "array([1, 1])"
            ]
          },
          "metadata": {},
          "execution_count": 6
        }
      ]
    },
    {
      "cell_type": "code",
      "source": [
        "w12"
      ],
      "metadata": {
        "colab": {
          "base_uri": "https://localhost:8080/"
        },
        "id": "OxxYnszmsbXR",
        "outputId": "0f45b141-7723-45b4-bc9d-ee8713ca331d"
      },
      "execution_count": 7,
      "outputs": [
        {
          "output_type": "execute_result",
          "data": {
            "text/plain": [
              "array([1, 1])"
            ]
          },
          "metadata": {},
          "execution_count": 7
        }
      ]
    },
    {
      "cell_type": "code",
      "source": [
        "w2"
      ],
      "metadata": {
        "colab": {
          "base_uri": "https://localhost:8080/"
        },
        "id": "koQRQjqxsccJ",
        "outputId": "d4dd1a65-6c74-4451-d4de-ea7b405f42ed"
      },
      "execution_count": 8,
      "outputs": [
        {
          "output_type": "execute_result",
          "data": {
            "text/plain": [
              "array([-1,  1])"
            ]
          },
          "metadata": {},
          "execution_count": 8
        }
      ]
    },
    {
      "cell_type": "code",
      "source": [
        "B1"
      ],
      "metadata": {
        "colab": {
          "base_uri": "https://localhost:8080/"
        },
        "id": "yO8NuXg1sdY5",
        "outputId": "6e8868fe-ba56-4b57-de0b-d82186540dc2"
      },
      "execution_count": 9,
      "outputs": [
        {
          "output_type": "execute_result",
          "data": {
            "text/plain": [
              "array([-1.5, -0.5])"
            ]
          },
          "metadata": {},
          "execution_count": 9
        }
      ]
    },
    {
      "cell_type": "code",
      "source": [
        "B2"
      ],
      "metadata": {
        "colab": {
          "base_uri": "https://localhost:8080/"
        },
        "id": "zyLnMQACsepR",
        "outputId": "aa0189aa-b202-438d-87b5-a4c3e6ac797a"
      },
      "execution_count": 10,
      "outputs": [
        {
          "output_type": "execute_result",
          "data": {
            "text/plain": [
              "array([-0.5])"
            ]
          },
          "metadata": {},
          "execution_count": 10
        }
      ]
    },
    {
      "cell_type": "code",
      "source": [
        "x=X[0]\n",
        "print(x)"
      ],
      "metadata": {
        "colab": {
          "base_uri": "https://localhost:8080/"
        },
        "id": "rlti4KOAsjnh",
        "outputId": "065c1384-a073-4402-eb74-d988590bd39e"
      },
      "execution_count": 12,
      "outputs": [
        {
          "output_type": "stream",
          "name": "stdout",
          "text": [
            "[0 0]\n"
          ]
        }
      ]
    },
    {
      "cell_type": "code",
      "source": [
        "len(w11)"
      ],
      "metadata": {
        "colab": {
          "base_uri": "https://localhost:8080/"
        },
        "id": "W2cV59r5sqaq",
        "outputId": "aa36ebd9-1f52-4f1e-f184-bc3277b33875"
      },
      "execution_count": 13,
      "outputs": [
        {
          "output_type": "execute_result",
          "data": {
            "text/plain": [
              "2"
            ]
          },
          "metadata": {},
          "execution_count": 13
        }
      ]
    },
    {
      "cell_type": "code",
      "source": [
        "def summation(x,w11,w12,B1):\n",
        "  sumh=[0,0]\n",
        "  for i in range(len(x)):\n",
        "    sumh[i]=(x[0]*w11[i]+x[1]*w12[i]+B1[i])\n",
        "  return sumh"
      ],
      "metadata": {
        "id": "3e4wXCPyss9V"
      },
      "execution_count": 19,
      "outputs": []
    },
    {
      "cell_type": "code",
      "source": [
        "sumv=summation(x,w11,w12,B1)\n",
        "print(sumv)"
      ],
      "metadata": {
        "colab": {
          "base_uri": "https://localhost:8080/"
        },
        "id": "oROCli9Etd59",
        "outputId": "a57a103d-91b0-4ee9-b0e5-059babe007a0"
      },
      "execution_count": 20,
      "outputs": [
        {
          "output_type": "stream",
          "name": "stdout",
          "text": [
            "[-1.5, -0.5]\n"
          ]
        }
      ]
    },
    {
      "cell_type": "code",
      "source": [
        "def Heaviside(net):\n",
        "  if net>=0:\n",
        "    return 1\n",
        "  else:\n",
        "    return 0"
      ],
      "metadata": {
        "id": "kPLEN8paucZK"
      },
      "execution_count": 21,
      "outputs": []
    },
    {
      "cell_type": "code",
      "source": [
        "hidden=[0,0]\n",
        "for i in range(len(sumv)):\n",
        "  hidden[i]=Heaviside(sumv[i])\n",
        "\n",
        "print(hidden)"
      ],
      "metadata": {
        "colab": {
          "base_uri": "https://localhost:8080/"
        },
        "id": "gEenNuK9ulP5",
        "outputId": "cbbfb177-4a54-4d98-a963-e2191c4d71b0"
      },
      "execution_count": 23,
      "outputs": [
        {
          "output_type": "stream",
          "name": "stdout",
          "text": [
            "[0, 0]\n"
          ]
        }
      ]
    },
    {
      "cell_type": "code",
      "source": [
        "sumo=np.dot(hidden,w2)+B2[0]\n",
        "y_pred=Heaviside(sumo)\n",
        "print(y_pred)"
      ],
      "metadata": {
        "colab": {
          "base_uri": "https://localhost:8080/"
        },
        "id": "CXRIO5LNu2r7",
        "outputId": "738b5356-3b9d-4a15-b559-f5e5445694e5"
      },
      "execution_count": 24,
      "outputs": [
        {
          "output_type": "stream",
          "name": "stdout",
          "text": [
            "0\n"
          ]
        }
      ]
    },
    {
      "cell_type": "code",
      "source": [
        "y_pred=[]\n",
        "for i in range(X.shape[0]):\n",
        "  x=X[i]\n",
        "  sumv=summation(x,w11,w12,B1)\n",
        "  hidden=[0,0]\n",
        "  for i in range (len(sumv)):\n",
        "    hidden[i]=Heaviside(sumv[i])\n",
        "  sumo=np.dot(hidden,w2)+B2[0]\n",
        "  y_pred.append(Heaviside(sumo))"
      ],
      "metadata": {
        "id": "gjtmyMZ7vEpV"
      },
      "execution_count": 25,
      "outputs": []
    },
    {
      "cell_type": "code",
      "source": [
        "y_pred"
      ],
      "metadata": {
        "colab": {
          "base_uri": "https://localhost:8080/"
        },
        "id": "ryFQFlBivpby",
        "outputId": "847248f3-3c01-48dc-f53b-185eed7e7d10"
      },
      "execution_count": 26,
      "outputs": [
        {
          "output_type": "execute_result",
          "data": {
            "text/plain": [
              "[0, 1, 1, 0]"
            ]
          },
          "metadata": {},
          "execution_count": 26
        }
      ]
    }
  ]
}