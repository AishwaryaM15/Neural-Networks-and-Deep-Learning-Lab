{
  "cells": [
    {
      "cell_type": "markdown",
      "metadata": {
        "id": "view-in-github",
        "colab_type": "text"
      },
      "source": [
        "<a href=\"https://colab.research.google.com/github/AishwaryaM15/Neural-Networks-and-Deep-Learning-Lab/blob/main/and_gate_py.ipynb\" target=\"_parent\"><img src=\"https://colab.research.google.com/assets/colab-badge.svg\" alt=\"Open In Colab\"/></a>"
      ]
    },
    {
      "cell_type": "markdown",
      "metadata": {
        "id": "nd5MowTx0LPn"
      },
      "source": [
        "1. Import all the required library\n"
      ]
    },
    {
      "cell_type": "code",
      "execution_count": 21,
      "metadata": {
        "id": "Ggi2GLRzz9T9"
      },
      "outputs": [],
      "source": [
        "import numpy as np"
      ]
    },
    {
      "cell_type": "markdown",
      "metadata": {
        "id": "AgYckmX90O_X"
      },
      "source": [
        "2. Define Vector Variables for Input and Output"
      ]
    },
    {
      "cell_type": "code",
      "execution_count": 22,
      "metadata": {
        "colab": {
          "base_uri": "https://localhost:8080/"
        },
        "id": "BHhAx2Wr0Rtn",
        "outputId": "fc22b5cb-2023-460d-f072-a75635cda17e"
      },
      "outputs": [
        {
          "output_type": "stream",
          "name": "stdout",
          "text": [
            "Input is given below\n",
            "[[0 0]\n",
            " [0 1]\n",
            " [1 0]\n",
            " [1 1]]\n",
            "Expected output is given below\n",
            "[0 0 0 1]\n"
          ]
        }
      ],
      "source": [
        "X = np.array([[0,0],[0,1],[1,0],[1,1]])\n",
        "print(\"Input is given below\")\n",
        "print(X)\n",
        "y = np.array([0,0,0,1])\n",
        "print(\"Expected output is given below\")\n",
        "print(y)\n"
      ]
    },
    {
      "cell_type": "markdown",
      "metadata": {
        "id": "i2dalFnv0XhL"
      },
      "source": [
        "3. Define Weight Variable\n"
      ]
    },
    {
      "cell_type": "code",
      "execution_count": 23,
      "metadata": {
        "id": "36508pfF0YAa"
      },
      "outputs": [],
      "source": [
        "w = np.array([1,1])\n"
      ]
    },
    {
      "cell_type": "markdown",
      "metadata": {
        "id": "8Amm5zBt0biK"
      },
      "source": [
        "4. specify the treshold"
      ]
    },
    {
      "cell_type": "code",
      "execution_count": 24,
      "metadata": {
        "id": "TLD1_OHQ0deC"
      },
      "outputs": [],
      "source": [
        " theta=1.5\n"
      ]
    },
    {
      "cell_type": "markdown",
      "metadata": {
        "id": "HRR1pHtO0fz7"
      },
      "source": [
        "5. Define place holder for predicted output"
      ]
    },
    {
      "cell_type": "code",
      "execution_count": 25,
      "metadata": {
        "id": "Mhz3UlHc0iVq"
      },
      "outputs": [],
      "source": [
        "y_pred = []\n"
      ]
    },
    {
      "cell_type": "markdown",
      "metadata": {
        "id": "9GR5CsI20kmw"
      },
      "source": [
        "6. Define Heaviside(step) function"
      ]
    },
    {
      "cell_type": "code",
      "execution_count": 26,
      "metadata": {
        "id": "eLJoSTcT0mZP"
      },
      "outputs": [],
      "source": [
        "def Heaviside (net):\n",
        "  if net >= theta:\n",
        "    return 1\n",
        "  else:\n",
        "    return 0\n"
      ]
    },
    {
      "cell_type": "markdown",
      "metadata": {
        "id": "j2kYj73F0wTv"
      },
      "source": [
        "7. Calculate Output\n"
      ]
    },
    {
      "cell_type": "code",
      "execution_count": 27,
      "metadata": {
        "colab": {
          "base_uri": "https://localhost:8080/"
        },
        "id": "1EDncKEU0xP0",
        "outputId": "01044dbd-6821-4287-8b98-94c240a727c7"
      },
      "outputs": [
        {
          "output_type": "stream",
          "name": "stdout",
          "text": [
            "0  AND  0  ->  0\n",
            "0  AND  1  ->  0\n",
            "1  AND  0  ->  0\n",
            "1  AND  1  ->  1\n"
          ]
        }
      ],
      "source": [
        "for i in range(X.shape[0]):\n",
        "  x = X[i]\n",
        "  wtsum= np.dot(x,w)\n",
        "  pred = Heaviside(wtsum)\n",
        "  print(x[0], \" AND \",x[1],\" -> \",pred)\n",
        "  y_pred.append(pred) # append to y_pred array"
      ]
    },
    {
      "cell_type": "code",
      "execution_count": 28,
      "metadata": {
        "id": "hOzNpd002ueI",
        "colab": {
          "base_uri": "https://localhost:8080/"
        },
        "outputId": "c83db7d6-9c8f-4b5d-f4e6-170dd267b1a0"
      },
      "outputs": [
        {
          "output_type": "execute_result",
          "data": {
            "text/plain": [
              "(4, 2)"
            ]
          },
          "metadata": {},
          "execution_count": 28
        }
      ],
      "source": [
        "X.shape"
      ]
    },
    {
      "cell_type": "code",
      "execution_count": 29,
      "metadata": {
        "colab": {
          "base_uri": "https://localhost:8080/"
        },
        "id": "YMC15zib07yk",
        "outputId": "b6d21999-9c48-4084-9c73-9ccd5f43c55f"
      },
      "outputs": [
        {
          "output_type": "stream",
          "name": "stdout",
          "text": [
            "[0, 0, 0, 1]\n"
          ]
        }
      ],
      "source": [
        "print(y_pred)"
      ]
    },
    {
      "cell_type": "markdown",
      "metadata": {
        "id": "7GB5Eq7z09Bk"
      },
      "source": [
        "Plot the decision boundary\n"
      ]
    },
    {
      "cell_type": "code",
      "execution_count": 30,
      "metadata": {
        "colab": {
          "base_uri": "https://localhost:8080/",
          "height": 435
        },
        "id": "-WAljQMb0-wc",
        "outputId": "f036768f-b519-44cb-bc55-e8cb89179e29"
      },
      "outputs": [
        {
          "output_type": "display_data",
          "data": {
            "text/plain": [
              "<Figure size 640x480 with 1 Axes>"
            ],
            "image/png": "[encoded data removed]"
          },
          "metadata": {}
        }
      ],
      "source": [
        "import matplotlib.pyplot as plt\n",
        "slope = -w[0]/w[1] # slope of the line\n",
        "intercept = (theta)/w[1] # intercept of the line\n",
        "x_plane = np.linspace(-2,2,10) #Return evenly spaced numbers over a specified interval\n",
        "y_plane = slope * x_plane + intercept # values calculated from x_plane with given slope and intercept\n",
        "plt.scatter(X[:,0], X[:,1], c=-y) # A scatter plot of y vs. x with varying marker size and/or color\n",
        "plt.plot(x_plane-0.1, y_plane-0.1, '-') # Plot y_plane versus x_plane as lines and/or markers\n",
        "plt.xlim([-0.2, 1.2]) #Get or set the x limits of the current axes\n",
        "plt.ylim([-0.2, 1.2]) #Get or set the y limits of the current axes\n",
        "plt.show() # Display all open figures"
      ]
    }
  ],
  "metadata": {
    "colab": {
      "provenance": [],
      "authorship_tag": "ABX9TyO6+JrQ9hb+67N8t+jQQClb",
      "include_colab_link": true
    },
    "kernelspec": {
      "display_name": "Python 3",
      "name": "python3"
    },
    "language_info": {
      "name": "python"
    }
  },
  "nbformat": 4,
  "nbformat_minor": 0
}